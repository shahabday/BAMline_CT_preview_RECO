{
 "cells": [
  {
   "cell_type": "code",
   "execution_count": 9,
   "metadata": {},
   "outputs": [],
   "source": [
    "import matplotlib.pyplot as plt\n",
    "import numpy as np \n",
    "import tomopy\n"
   ]
  },
  {
   "cell_type": "code",
   "execution_count": 10,
   "metadata": {},
   "outputs": [
    {
     "name": "stdout",
     "output_type": "stream",
     "text": [
      "volume opened successfully : data shape:  (2566, 1560, 2560)\n"
     ]
    }
   ],
   "source": [
    "from projection_import import * \n",
    "\n",
    "\n",
    "FileObject = ProjectionFile(\"A:\\\\BAMline-CT\\\\2022\\\\2022_03\\\\Pch_21_09_10\\\\220317_1754_95_Pch_21_09_10_____Z40_Y8300_42000eV_10x_250ms\\\\220317_1754_95_00001.h5\")\n",
    "_,metadata = FileObject.openFile(volume = \"/entry/data/data\" , metadata = ['/entry/instrument/NDAttributes/CT_MICOS_W'])\n",
    "\n"
   ]
  },
  {
   "cell_type": "code",
   "execution_count": null,
   "metadata": {},
   "outputs": [],
   "source": []
  },
  {
   "cell_type": "code",
   "execution_count": 88,
   "metadata": {},
   "outputs": [
    {
     "data": {
      "text/plain": [
       "<matplotlib.image.AxesImage at 0x28e4fb7abb0>"
      ]
     },
     "execution_count": 88,
     "metadata": {},
     "output_type": "execute_result"
    }
   ],
   "source": [
    "img = FileObject.vol_proxy[200,:,:]\n",
    "plt.imshow(img)\n"
   ]
  },
  {
   "cell_type": "code",
   "execution_count": 83,
   "metadata": {},
   "outputs": [
    {
     "data": {
      "text/plain": [
       "(2526,)"
      ]
     },
     "execution_count": 83,
     "metadata": {},
     "output_type": "execute_result"
    }
   ],
   "source": [
    "graph.shape"
   ]
  },
  {
   "cell_type": "code",
   "execution_count": 11,
   "metadata": {},
   "outputs": [],
   "source": [
    "#variables : \n",
    "\n",
    "number_of_FFs = 20\n",
    "COR = 1213\n",
    "slice_number = 500\n",
    "DarkFieldValue = 200\n",
    "backIlluminationValue = 0\n",
    "Offset_Angle = 0 # this is to rotate the reconstructed slice by\n",
    "angle_rang = '180 - axis centered'# '360 - axis right' # could have 3 different types\n",
    "extend_FOV_fixed_ImageJ_Stream = 0.25 # no idea what this is \n",
    "reco_algorithm = 'gridrec'\n",
    "pixel_size = 0.72"
   ]
  },
  {
   "cell_type": "code",
   "execution_count": 12,
   "metadata": {},
   "outputs": [
    {
     "name": "stdout",
     "output_type": "stream",
     "text": [
      "Polynom coefficients [ 0.07250538 45.71607613]    Detected angular step per image:  0.07250537565907467\n"
     ]
    },
    {
     "name": "stderr",
     "output_type": "stream",
     "text": [
      "INFO:tomopy.recon.algorithm:Reconstructing 1 slice groups with 1 master threads...\n"
     ]
    }
   ],
   "source": [
    "\n",
    "\n",
    "#getting angles\n",
    "line = metadata['/entry/instrument/NDAttributes/CT_MICOS_W']\n",
    "graph= np.array(line[number_of_FFs:-number_of_FFs])\n",
    "\n",
    "\n",
    "#find rotation start\n",
    "i = 0\n",
    "while i < graph.shape[0]:\n",
    "    if round(graph[i]) == 0:  # notice the last projection at below 0.5°\n",
    "        last_zero_proj = i + 3  # assumes 3 images for speeding up the motor\n",
    "    i = i + 1\n",
    "\n",
    "#estimate COR\n",
    "if COR == 0:\n",
    "    COR = (round(FileObject.vol_proxy.shape[2] / 2))\n",
    "    \n",
    "\n",
    "#FFs  Flat fields \n",
    "\n",
    "\n",
    "FFs = FileObject.vol_proxy[0:number_of_FFs -1, slice_number, :]\n",
    "FFmean = np.mean(FFs, axis=0)\n",
    "\n",
    "#sinogram \n",
    "Sino = FileObject.vol_proxy[number_of_FFs : -number_of_FFs, slice_number, :]\n",
    "\n",
    "#normalize\n",
    "Norm = np.divide(np.subtract(Sino, DarkFieldValue), np.subtract(FFmean, DarkFieldValue + backIlluminationValue))\n",
    "\n",
    "#prefill rotation-speed[°/img]\n",
    "#Polynom fit for the angles\n",
    "poly_coeff = np.polyfit(np.arange(len(graph[round((graph.shape[0] + 1) /4) : round((graph.shape[0] + 1) * 3/4) ])), graph[round((graph.shape[0] + 1) /4) : round((graph.shape[0] + 1) * 3/4) ], 1, rcond=None, full=False, w=None, cov=False)\n",
    "print('Polynom coefficients',poly_coeff, '   Detected angular step per image: ', poly_coeff[0])\n",
    "speed_W = poly_coeff[0]\n",
    "\n",
    "\n",
    "#reconstruction :\n",
    "number_of_projections = Norm.shape[0]\n",
    "\n",
    "\n",
    "\n",
    "#check if the scan was 180° or 360°\n",
    "if number_of_projections * speed_W >= 270:\n",
    "    number_of_used_projections = round(360 / speed_W)\n",
    "else:\n",
    "    #print('smaller than 3/2 Pi')\n",
    "    number_of_used_projections = round(180 / speed_W)\n",
    "\n",
    "\n",
    "\n",
    "# create list with all projection angles  based on radian \n",
    "new_list = (np.arange(number_of_used_projections) * speed_W + Offset_Angle) * np.pi / 180\n",
    "\n",
    "# create list with x-positions of projections\n",
    "full_size = Norm.shape[1]\n",
    "\n",
    "if angle_rang == '360 - axis right':\n",
    "    center_list = [COR + round((extend_FOV_fixed_ImageJ_Stream -1) * full_size)] * (number_of_used_projections)\n",
    "    #center_list = [self.COR.value() +  self.full_size] * (self.number_of_used_projections)\n",
    "else:\n",
    "    center_list = [COR + round(extend_FOV_fixed_ImageJ_Stream * full_size)] * (number_of_used_projections)\n",
    "\n",
    "\n",
    "\n",
    "# create one sinogram in the form [z, y, x]\n",
    "transposed_sinos = np.zeros((min(number_of_used_projections, Norm.shape[0]), 1, full_size), dtype=float)\n",
    "transposed_sinos[:,0,:] = Norm[last_zero_proj : min(last_zero_proj + number_of_used_projections, Norm.shape[0]),:]\n",
    "\n",
    "#extend data with calculated parameter, compute logarithm, remove NaN-values\n",
    "extended_sinos = tomopy.misc.morph.pad(transposed_sinos, axis=2, npad=round(extend_FOV_fixed_ImageJ_Stream * full_size), mode='edge')\n",
    "\n",
    "# for 360° scans crop the padded area opposite of the axis\n",
    "\n",
    "if angle_rang == '360 - axis right':\n",
    "    \n",
    "    extended_sinos = extended_sinos[:,:, full_size : ]\n",
    "\n",
    "elif angle_rang == '360 - axis left':\n",
    "    \n",
    "    extended_sinos = extended_sinos[:,:, : - full_size]\n",
    "\n",
    "\n",
    "#calculate -log\n",
    "extended_sinos = tomopy.minus_log(extended_sinos)\n",
    "\n",
    "#clean data\n",
    "extended_sinos = np.nan_to_num(extended_sinos, copy=True, nan=1.0, posinf=1.0, neginf=1.0)\n",
    "\n",
    "\n",
    "#reconstruct one slice\n",
    "if reco_algorithm == 'FBP_CUDA':\n",
    "    options = {'proj_type': 'cuda', 'method': 'FBP_CUDA'}\n",
    "    slices = tomopy.recon(extended_sinos, new_list, center=center_list, algorithm=tomopy.astra, options=options)\n",
    "else:\n",
    "    slices = tomopy.recon(extended_sinos, new_list, center=center_list, algorithm=reco_algorithm,\n",
    "                            filter_name=reco_algorithm)\n",
    "\n",
    "# scale with pixel size to attenuation coefficients\n",
    "slices = slices * (10000/pixel_size)\n",
    "\n",
    "\n",
    "# trim reconstructed slice\n",
    "if angle_rang == '180 - axis centered':\n",
    "    slices = slices[:, round(extend_FOV_fixed_ImageJ_Stream * full_size / 2): -round(extend_FOV_fixed_ImageJ_Stream * full_size / 2),round(extend_FOV_fixed_ImageJ_Stream * full_size / 2): -round(extend_FOV_fixed_ImageJ_Stream * full_size / 2)]\n",
    "else:\n",
    "    slices = slices[:, round((extend_FOV_fixed_ImageJ_Stream -1) * full_size): -round((extend_FOV_fixed_ImageJ_Stream -1) * full_size),round((extend_FOV_fixed_ImageJ_Stream -1) * full_size): -round((extend_FOV_fixed_ImageJ_Stream -1) * full_size)]\n",
    "\n",
    "slices = tomopy.circ_mask(slices, axis=0, ratio=1.0)\n",
    "original_reconstruction = slices[0, :, :]\n"
   ]
  },
  {
   "cell_type": "code",
   "execution_count": 23,
   "metadata": {},
   "outputs": [
    {
     "data": {
      "text/plain": [
       "2526"
      ]
     },
     "execution_count": 23,
     "metadata": {},
     "output_type": "execute_result"
    }
   ],
   "source": [
    "FileObject.vol_proxy.shape[0]-2*20\n"
   ]
  },
  {
   "cell_type": "code",
   "execution_count": 20,
   "metadata": {},
   "outputs": [],
   "source": [
    "sino=FileObject.vol_proxy[20:-20,3,:]\n"
   ]
  },
  {
   "cell_type": "code",
   "execution_count": 21,
   "metadata": {},
   "outputs": [
    {
     "data": {
      "text/plain": [
       "(2526, 2560)"
      ]
     },
     "execution_count": 21,
     "metadata": {},
     "output_type": "execute_result"
    }
   ],
   "source": [
    "sino.shape"
   ]
  },
  {
   "cell_type": "code",
   "execution_count": 81,
   "metadata": {},
   "outputs": [
    {
     "data": {
      "text/plain": [
       "<matplotlib.image.AxesImage at 0x28e0025aa30>"
      ]
     },
     "execution_count": 81,
     "metadata": {},
     "output_type": "execute_result"
    }
   ],
   "source": [
    "plt.imshow(slices[0,:,:])"
   ]
  },
  {
   "cell_type": "code",
   "execution_count": 59,
   "metadata": {},
   "outputs": [
    {
     "data": {
      "text/plain": [
       "(2483, 1, 2560)"
      ]
     },
     "execution_count": 59,
     "metadata": {},
     "output_type": "execute_result"
    }
   ],
   "source": [
    "transposed_sinos.shape"
   ]
  },
  {
   "cell_type": "code",
   "execution_count": 61,
   "metadata": {},
   "outputs": [
    {
     "data": {
      "text/plain": [
       "(2483, 1, 3840)"
      ]
     },
     "execution_count": 61,
     "metadata": {},
     "output_type": "execute_result"
    }
   ],
   "source": [
    "extended_sinos.shape"
   ]
  },
  {
   "cell_type": "code",
   "execution_count": 49,
   "metadata": {},
   "outputs": [
    {
     "data": {
      "text/plain": [
       "<matplotlib.image.AxesImage at 0x28e4a78f160>"
      ]
     },
     "execution_count": 49,
     "metadata": {},
     "output_type": "execute_result"
    }
   ],
   "source": [
    "%matplotlib qt\n",
    "\n",
    "plt.figure(1)\n",
    "plt.imshow(Sino)\n",
    "\n",
    "plt.figure(2)\n",
    "plt.imshow(Norm)"
   ]
  },
  {
   "cell_type": "code",
   "execution_count": 22,
   "metadata": {},
   "outputs": [
    {
     "data": {
      "text/plain": [
       "(2526,)"
      ]
     },
     "execution_count": 22,
     "metadata": {},
     "output_type": "execute_result"
    }
   ],
   "source": [
    "graph.shape"
   ]
  },
  {
   "cell_type": "code",
   "execution_count": 10,
   "metadata": {},
   "outputs": [
    {
     "data": {
      "text/plain": [
       "(<HDF5 dataset \"data\": shape (2566, 1560, 2560), type \"<u2\">,\n",
       " {'/entry/instrument/NDAttributes/CT_MICOS_W': <HDF5 dataset \"CT_MICOS_W\": shape (2566,), type \"<f8\">})"
      ]
     },
     "execution_count": 10,
     "metadata": {},
     "output_type": "execute_result"
    }
   ],
   "source": [
    "np.array(line)"
   ]
  },
  {
   "cell_type": "code",
   "execution_count": 7,
   "metadata": {},
   "outputs": [
    {
     "data": {
      "text/plain": [
       "(<HDF5 dataset \"data\": shape (2566, 1560, 2560), type \"<u2\">,\n",
       " {'/entry/instrument/NDAttributes/CT_MICOS_W': <HDF5 dataset \"CT_MICOS_W\": shape (2566,), type \"<f8\">})"
      ]
     },
     "execution_count": 7,
     "metadata": {},
     "output_type": "execute_result"
    }
   ],
   "source": [
    "\n",
    "self.graph = numpy.array(self.line_proxy[self.spinBox_number_FFs.value(): -self.spinBox_number_FFs.value()])"
   ]
  },
  {
   "cell_type": "code",
   "execution_count": 1,
   "metadata": {},
   "outputs": [
    {
     "name": "stderr",
     "output_type": "stream",
     "text": [
      "INFO:root:Reconstruction object Imported\n",
      "INFO:root:Reconstruction object Imported\n",
      "INFO:root:projection file is HDF5 File object \n"
     ]
    },
    {
     "name": "stdout",
     "output_type": "stream",
     "text": [
      "volume opened successfully : data shape:  (2566, 1560, 2560)\n"
     ]
    }
   ],
   "source": [
    "# test my reconstruct code \n",
    "\n",
    "from reconstruct import * \n",
    "\n",
    "from projection_import import * \n",
    "\n",
    "\n",
    "FileObject = ProjectionFile(\"A:\\\\BAMline-CT\\\\2022\\\\2022_03\\\\Pch_21_09_10\\\\220317_1754_95_Pch_21_09_10_____Z40_Y8300_42000eV_10x_250ms\\\\220317_1754_95_00001.h5\")\n",
    "_,metadata = FileObject.openFile(volume = \"/entry/data/data\" , metadata = ['/entry/instrument/NDAttributes/CT_MICOS_W'])\n",
    "\n",
    "\n",
    "reco_setting ={} \n",
    "reco_setting['angle_list_dir'] = '/entry/instrument/NDAttributes/CT_MICOS_W'\n",
    "reco_setting[\"number_of_FFs\"] = 20 \n",
    "reco_setting[\"slice_number\"]  = 500\n",
    "reco_setting[\"DarkFieldValue\"] = 200\n",
    "reco_setting[\"backIlluminationValue\"] = 0\n",
    "reco_setting[\"COR\"] = 1210\n",
    "reco_setting[\"Offset_Angle\"] = 0\n",
    "reco_setting[\"angle_range\"] = '180 - axis centered'\n",
    "reco_setting[\"extend_FOV_fixed_ImageJ_Stream\"] = 0.25\n",
    "reco_setting[\"reco_algorithm\"] = 'gridrec'\n",
    "reco_setting[\"pixel_size\"] = 0.72\n",
    "\n",
    "reco = Reconstruction(FileObject,scan_type = 'on-the-fly')\n"
   ]
  },
  {
   "cell_type": "code",
   "execution_count": 2,
   "metadata": {},
   "outputs": [
    {
     "name": "stderr",
     "output_type": "stream",
     "text": [
      "--- Logging error ---\n",
      "Traceback (most recent call last):\n",
      "  File \"c:\\ProgramData\\Miniconda3\\lib\\logging\\__init__.py\", line 1083, in emit\n",
      "    msg = self.format(record)\n",
      "  File \"c:\\ProgramData\\Miniconda3\\lib\\logging\\__init__.py\", line 927, in format\n",
      "    return fmt.format(record)\n",
      "  File \"c:\\ProgramData\\Miniconda3\\lib\\logging\\__init__.py\", line 663, in format\n",
      "    record.message = record.getMessage()\n",
      "  File \"c:\\ProgramData\\Miniconda3\\lib\\logging\\__init__.py\", line 367, in getMessage\n",
      "    msg = msg % self.args\n",
      "TypeError: not all arguments converted during string formatting\n",
      "Call stack:\n",
      "  File \"c:\\ProgramData\\Miniconda3\\lib\\runpy.py\", line 197, in _run_module_as_main\n",
      "    return _run_code(code, main_globals, None,\n",
      "  File \"c:\\ProgramData\\Miniconda3\\lib\\runpy.py\", line 87, in _run_code\n",
      "    exec(code, run_globals)\n",
      "  File \"C:\\Users\\sdayani\\AppData\\Roaming\\Python\\Python39\\site-packages\\ipykernel_launcher.py\", line 16, in <module>\n",
      "    app.launch_new_instance()\n",
      "  File \"C:\\Users\\sdayani\\AppData\\Roaming\\Python\\Python39\\site-packages\\traitlets\\config\\application.py\", line 845, in launch_instance\n",
      "    app.start()\n",
      "  File \"C:\\Users\\sdayani\\AppData\\Roaming\\Python\\Python39\\site-packages\\ipykernel\\kernelapp.py\", line 667, in start\n",
      "    self.io_loop.start()\n",
      "  File \"C:\\Users\\sdayani\\AppData\\Roaming\\Python\\Python39\\site-packages\\tornado\\platform\\asyncio.py\", line 199, in start\n",
      "    self.asyncio_loop.run_forever()\n",
      "  File \"c:\\ProgramData\\Miniconda3\\lib\\asyncio\\base_events.py\", line 596, in run_forever\n",
      "    self._run_once()\n",
      "  File \"c:\\ProgramData\\Miniconda3\\lib\\asyncio\\base_events.py\", line 1890, in _run_once\n",
      "    handle._run()\n",
      "  File \"c:\\ProgramData\\Miniconda3\\lib\\asyncio\\events.py\", line 80, in _run\n",
      "    self._context.run(self._callback, *self._args)\n",
      "  File \"C:\\Users\\sdayani\\AppData\\Roaming\\Python\\Python39\\site-packages\\ipykernel\\kernelbase.py\", line 457, in dispatch_queue\n",
      "    await self.process_one()\n",
      "  File \"C:\\Users\\sdayani\\AppData\\Roaming\\Python\\Python39\\site-packages\\ipykernel\\kernelbase.py\", line 446, in process_one\n",
      "    await dispatch(*args)\n",
      "  File \"C:\\Users\\sdayani\\AppData\\Roaming\\Python\\Python39\\site-packages\\ipykernel\\kernelbase.py\", line 353, in dispatch_shell\n",
      "    await result\n",
      "  File \"C:\\Users\\sdayani\\AppData\\Roaming\\Python\\Python39\\site-packages\\ipykernel\\kernelbase.py\", line 648, in execute_request\n",
      "    reply_content = await reply_content\n",
      "  File \"C:\\Users\\sdayani\\AppData\\Roaming\\Python\\Python39\\site-packages\\ipykernel\\ipkernel.py\", line 345, in do_execute\n",
      "    res = shell.run_cell(code, store_history=store_history, silent=silent)\n",
      "  File \"C:\\Users\\sdayani\\AppData\\Roaming\\Python\\Python39\\site-packages\\ipykernel\\zmqshell.py\", line 532, in run_cell\n",
      "    return super(ZMQInteractiveShell, self).run_cell(*args, **kwargs)\n",
      "  File \"C:\\Users\\sdayani\\AppData\\Roaming\\Python\\Python39\\site-packages\\IPython\\core\\interactiveshell.py\", line 2898, in run_cell\n",
      "    result = self._run_cell(\n",
      "  File \"C:\\Users\\sdayani\\AppData\\Roaming\\Python\\Python39\\site-packages\\IPython\\core\\interactiveshell.py\", line 2944, in _run_cell\n",
      "    return runner(coro)\n",
      "  File \"C:\\Users\\sdayani\\AppData\\Roaming\\Python\\Python39\\site-packages\\IPython\\core\\async_helpers.py\", line 68, in _pseudo_sync_runner\n",
      "    coro.send(None)\n",
      "  File \"C:\\Users\\sdayani\\AppData\\Roaming\\Python\\Python39\\site-packages\\IPython\\core\\interactiveshell.py\", line 3169, in run_cell_async\n",
      "    has_raised = await self.run_ast_nodes(code_ast.body, cell_name,\n",
      "  File \"C:\\Users\\sdayani\\AppData\\Roaming\\Python\\Python39\\site-packages\\IPython\\core\\interactiveshell.py\", line 3361, in run_ast_nodes\n",
      "    if (await self.run_code(code, result,  async_=asy)):\n",
      "  File \"C:\\Users\\sdayani\\AppData\\Roaming\\Python\\Python39\\site-packages\\IPython\\core\\interactiveshell.py\", line 3441, in run_code\n",
      "    exec(code_obj, self.user_global_ns, self.user_ns)\n",
      "  File \"C:\\Users\\sdayani\\AppData\\Local\\Temp\\1/ipykernel_17136/2716867683.py\", line 1, in <module>\n",
      "    reco.on_the_fly_one_slice(reco_setting)\n",
      "  File \"c:\\Users\\sdayani\\Documents\\GitHub\\BAMlineCT_4D_reco\\BAMline_on_the_fly_4D_reco\\reconstruct.py\", line 223, in on_the_fly_one_slice\n",
      "    logging.info('Polynom coefficients',poly_coeff, '   Detected angular step per image: ', poly_coeff[0])\n",
      "Message: 'Polynom coefficients'\n",
      "Arguments: (array([ 0.07250538, 45.71607613]), '   Detected angular step per image: ', 0.07250537565907467)\n",
      "INFO:tomopy.recon.algorithm:Reconstructing 1 slice groups with 1 master threads...\n"
     ]
    },
    {
     "data": {
      "text/plain": [
       "array([[0., 0., 0., ..., 0., 0., 0.],\n",
       "       [0., 0., 0., ..., 0., 0., 0.],\n",
       "       [0., 0., 0., ..., 0., 0., 0.],\n",
       "       ...,\n",
       "       [0., 0., 0., ..., 0., 0., 0.],\n",
       "       [0., 0., 0., ..., 0., 0., 0.],\n",
       "       [0., 0., 0., ..., 0., 0., 0.]], dtype=float32)"
      ]
     },
     "execution_count": 2,
     "metadata": {},
     "output_type": "execute_result"
    }
   ],
   "source": [
    "reco.on_the_fly_one_slice(reco_setting)"
   ]
  },
  {
   "cell_type": "code",
   "execution_count": 5,
   "metadata": {},
   "outputs": [
    {
     "data": {
      "text/plain": [
       "<matplotlib.image.AxesImage at 0x2004a1c5250>"
      ]
     },
     "execution_count": 5,
     "metadata": {},
     "output_type": "execute_result"
    },
    {
     "data": {
      "image/png": "[encoded data removed]",
      "text/plain": [
       "<Figure size 432x288 with 1 Axes>"
      ]
     },
     "metadata": {
      "needs_background": "light"
     },
     "output_type": "display_data"
    }
   ],
   "source": [
    "plt.imshow(reco.one_slice_reconstructed)"
   ]
  },
  {
   "cell_type": "code",
   "execution_count": 8,
   "metadata": {},
   "outputs": [
    {
     "name": "stderr",
     "output_type": "stream",
     "text": [
      "--- Logging error ---\n",
      "Traceback (most recent call last):\n",
      "  File \"c:\\ProgramData\\Miniconda3\\lib\\logging\\__init__.py\", line 1083, in emit\n",
      "    msg = self.format(record)\n",
      "  File \"c:\\ProgramData\\Miniconda3\\lib\\logging\\__init__.py\", line 927, in format\n",
      "    return fmt.format(record)\n",
      "  File \"c:\\ProgramData\\Miniconda3\\lib\\logging\\__init__.py\", line 663, in format\n",
      "    record.message = record.getMessage()\n",
      "  File \"c:\\ProgramData\\Miniconda3\\lib\\logging\\__init__.py\", line 367, in getMessage\n",
      "    msg = msg % self.args\n",
      "TypeError: not all arguments converted during string formatting\n",
      "Call stack:\n",
      "  File \"c:\\ProgramData\\Miniconda3\\lib\\runpy.py\", line 197, in _run_module_as_main\n",
      "    return _run_code(code, main_globals, None,\n",
      "  File \"c:\\ProgramData\\Miniconda3\\lib\\runpy.py\", line 87, in _run_code\n",
      "    exec(code, run_globals)\n",
      "  File \"C:\\Users\\sdayani\\AppData\\Roaming\\Python\\Python39\\site-packages\\ipykernel_launcher.py\", line 16, in <module>\n",
      "    app.launch_new_instance()\n",
      "  File \"C:\\Users\\sdayani\\AppData\\Roaming\\Python\\Python39\\site-packages\\traitlets\\config\\application.py\", line 845, in launch_instance\n",
      "    app.start()\n",
      "  File \"C:\\Users\\sdayani\\AppData\\Roaming\\Python\\Python39\\site-packages\\ipykernel\\kernelapp.py\", line 667, in start\n",
      "    self.io_loop.start()\n",
      "  File \"C:\\Users\\sdayani\\AppData\\Roaming\\Python\\Python39\\site-packages\\tornado\\platform\\asyncio.py\", line 199, in start\n",
      "    self.asyncio_loop.run_forever()\n",
      "  File \"c:\\ProgramData\\Miniconda3\\lib\\asyncio\\base_events.py\", line 596, in run_forever\n",
      "    self._run_once()\n",
      "  File \"c:\\ProgramData\\Miniconda3\\lib\\asyncio\\base_events.py\", line 1890, in _run_once\n",
      "    handle._run()\n",
      "  File \"c:\\ProgramData\\Miniconda3\\lib\\asyncio\\events.py\", line 80, in _run\n",
      "    self._context.run(self._callback, *self._args)\n",
      "  File \"C:\\Users\\sdayani\\AppData\\Roaming\\Python\\Python39\\site-packages\\ipykernel\\kernelbase.py\", line 457, in dispatch_queue\n",
      "    await self.process_one()\n",
      "  File \"C:\\Users\\sdayani\\AppData\\Roaming\\Python\\Python39\\site-packages\\ipykernel\\kernelbase.py\", line 446, in process_one\n",
      "    await dispatch(*args)\n",
      "  File \"C:\\Users\\sdayani\\AppData\\Roaming\\Python\\Python39\\site-packages\\ipykernel\\kernelbase.py\", line 353, in dispatch_shell\n",
      "    await result\n",
      "  File \"C:\\Users\\sdayani\\AppData\\Roaming\\Python\\Python39\\site-packages\\ipykernel\\kernelbase.py\", line 648, in execute_request\n",
      "    reply_content = await reply_content\n",
      "  File \"C:\\Users\\sdayani\\AppData\\Roaming\\Python\\Python39\\site-packages\\ipykernel\\ipkernel.py\", line 345, in do_execute\n",
      "    res = shell.run_cell(code, store_history=store_history, silent=silent)\n",
      "  File \"C:\\Users\\sdayani\\AppData\\Roaming\\Python\\Python39\\site-packages\\ipykernel\\zmqshell.py\", line 532, in run_cell\n",
      "    return super(ZMQInteractiveShell, self).run_cell(*args, **kwargs)\n",
      "  File \"C:\\Users\\sdayani\\AppData\\Roaming\\Python\\Python39\\site-packages\\IPython\\core\\interactiveshell.py\", line 2898, in run_cell\n",
      "    result = self._run_cell(\n",
      "  File \"C:\\Users\\sdayani\\AppData\\Roaming\\Python\\Python39\\site-packages\\IPython\\core\\interactiveshell.py\", line 2944, in _run_cell\n",
      "    return runner(coro)\n",
      "  File \"C:\\Users\\sdayani\\AppData\\Roaming\\Python\\Python39\\site-packages\\IPython\\core\\async_helpers.py\", line 68, in _pseudo_sync_runner\n",
      "    coro.send(None)\n",
      "  File \"C:\\Users\\sdayani\\AppData\\Roaming\\Python\\Python39\\site-packages\\IPython\\core\\interactiveshell.py\", line 3169, in run_cell_async\n",
      "    has_raised = await self.run_ast_nodes(code_ast.body, cell_name,\n",
      "  File \"C:\\Users\\sdayani\\AppData\\Roaming\\Python\\Python39\\site-packages\\IPython\\core\\interactiveshell.py\", line 3361, in run_ast_nodes\n",
      "    if (await self.run_code(code, result,  async_=asy)):\n",
      "  File \"C:\\Users\\sdayani\\AppData\\Roaming\\Python\\Python39\\site-packages\\IPython\\core\\interactiveshell.py\", line 3441, in run_code\n",
      "    exec(code_obj, self.user_global_ns, self.user_ns)\n",
      "  File \"C:\\Users\\sdayani\\AppData\\Local\\Temp\\1/ipykernel_17136/2420465507.py\", line 15, in <module>\n",
      "    reco.on_the_fly_one_slice(reco_setting)\n",
      "  File \"c:\\Users\\sdayani\\Documents\\GitHub\\BAMlineCT_4D_reco\\BAMline_on_the_fly_4D_reco\\reconstruct.py\", line 223, in on_the_fly_one_slice\n",
      "    logging.info('Polynom coefficients',poly_coeff, '   Detected angular step per image: ', poly_coeff[0])\n",
      "Message: 'Polynom coefficients'\n",
      "Arguments: (array([ 0.07250538, 45.71607613]), '   Detected angular step per image: ', 0.07250537565907467)\n",
      "INFO:tomopy.recon.algorithm:Reconstructing 1 slice groups with 1 master threads...\n"
     ]
    },
    {
     "data": {
      "text/plain": [
       "array([[0., 0., 0., ..., 0., 0., 0.],\n",
       "       [0., 0., 0., ..., 0., 0., 0.],\n",
       "       [0., 0., 0., ..., 0., 0., 0.],\n",
       "       ...,\n",
       "       [0., 0., 0., ..., 0., 0., 0.],\n",
       "       [0., 0., 0., ..., 0., 0., 0.],\n",
       "       [0., 0., 0., ..., 0., 0., 0.]], dtype=float32)"
      ]
     },
     "execution_count": 8,
     "metadata": {},
     "output_type": "execute_result"
    }
   ],
   "source": [
    "#change a setting and reco again \n",
    "# reco_setting ={} \n",
    "# reco_setting['angle_list_dir'] = '/entry/instrument/NDAttributes/CT_MICOS_W'\n",
    "# reco_setting[\"number_of_FFs\"] = 20 \n",
    "# reco_setting[\"slice_number\"]  = 500\n",
    "# reco_setting[\"DarkFieldValue\"] = 200\n",
    "# reco_setting[\"backIlluminationValue\"] = 0\n",
    "reco_setting[\"COR\"] = 1210\n",
    "# reco_setting[\"Offset_Angle\"] = 0\n",
    "# reco_setting[\"angle_range\"] = '180 - axis centered'\n",
    "# reco_setting[\"extend_FOV_fixed_ImageJ_Stream\"] = 0.25\n",
    "# reco_setting[\"reco_algorithm\"] = 'gridrec'\n",
    "# reco_setting[\"pixel_size\"] = 0.72\n",
    "\n",
    "reco.on_the_fly_one_slice(reco_setting)"
   ]
  },
  {
   "cell_type": "code",
   "execution_count": 29,
   "metadata": {},
   "outputs": [],
   "source": [
    "def check(v):\n",
    "    return isinstance(v, tuple) and list(map(type, v)) == [int, int]"
   ]
  },
  {
   "cell_type": "code",
   "execution_count": 32,
   "metadata": {},
   "outputs": [
    {
     "ename": "AssertionError",
     "evalue": "we have a problem ",
     "output_type": "error",
     "traceback": [
      "\u001b[1;31m---------------------------------------------------------------------------\u001b[0m",
      "\u001b[1;31mAssertionError\u001b[0m                            Traceback (most recent call last)",
      "\u001b[1;32m~\\AppData\\Local\\Temp\\1/ipykernel_17136/2287867363.py\u001b[0m in \u001b[0;36m<module>\u001b[1;34m\u001b[0m\n\u001b[1;32m----> 1\u001b[1;33m \u001b[1;32massert\u001b[0m \u001b[0mcheck\u001b[0m\u001b[1;33m(\u001b[0m\u001b[1;33m(\u001b[0m\u001b[1;36m3.3\u001b[0m\u001b[1;33m,\u001b[0m\u001b[1;36m2\u001b[0m\u001b[1;33m)\u001b[0m\u001b[1;33m)\u001b[0m \u001b[1;33m,\u001b[0m \u001b[1;34m\"we have a problem \"\u001b[0m\u001b[1;33m\u001b[0m\u001b[1;33m\u001b[0m\u001b[0m\n\u001b[0m",
      "\u001b[1;31mAssertionError\u001b[0m: we have a problem "
     ]
    }
   ],
   "source": [
    "assert check((3.3,2)) , \"we have a problem \""
   ]
  },
  {
   "cell_type": "code",
   "execution_count": 38,
   "metadata": {},
   "outputs": [],
   "source": [
    "len_all_slices = 500\n",
    "def slice_in_range (v):\n",
    "    if (v[0] <0 or v[0]>v[1] or v[0] > len_all_slices) : \n",
    "        return 'out range'\n",
    "    if (v[1]<0 or v[1]<v[0] or v[1]> len_all_slices):\n",
    "        return 'out of range' \n",
    "    else : \n",
    "        return True \n",
    "\n",
    "    "
   ]
  },
  {
   "cell_type": "code",
   "execution_count": 48,
   "metadata": {},
   "outputs": [
    {
     "data": {
      "text/plain": [
       "'Reconstruct a part of volume is selected (5, 6)'"
      ]
     },
     "execution_count": 48,
     "metadata": {},
     "output_type": "execute_result"
    }
   ],
   "source": [
    "\"Reconstruct a part of volume is selected {}\".format ((5,6))"
   ]
  },
  {
   "cell_type": "code",
   "execution_count": 54,
   "metadata": {},
   "outputs": [
    {
     "name": "stderr",
     "output_type": "stream",
     "text": [
      "INFO:root:Reconstruct whole volume is selected \n"
     ]
    }
   ],
   "source": [
    "len_all_slices = 500\n",
    "\n",
    "slices_to_reco = \"all\"\n",
    "def tuple_int(v):\n",
    "    return isinstance(v, tuple) and list(map(type, v)) == [int, int]\n",
    "\n",
    "def reco_all ():\n",
    "    return (0,len_all_slices) # reconstruct all\n",
    "\n",
    "def slice_in_range (v):\n",
    "    if (v[0] <0 or v[0]>v[1] or v[0] > len_all_slices) : \n",
    "        return False\n",
    "    if (v[1]<0 or v[1]<v[0] or v[1]> len_all_slices):\n",
    "        return False \n",
    "    else : \n",
    "        return True \n",
    "\n",
    "if slices_to_reco != 'all' : # a range of slices is selected \n",
    "    if tuple_int(slices_to_reco) and slice_in_range(slices_to_reco): # check if it is tuple with two int values are in range\n",
    "        logging.info(\"Reconstruct a part of volume is selected {}\".format (slices_to_reco))\n",
    "    else :\n",
    "        slices_to_reco = reco_all() # if not, auto select all vol to reconstruct\n",
    "        logging.info(\"Reconstruct whole volume is autoselected \")\n",
    "elif slices_to_reco == 'all':\n",
    "    slices_to_reco = reco_all()\n",
    "    logging.info(\"Reconstruct whole volume is selected \")\n",
    "\n",
    "                "
   ]
  },
  {
   "cell_type": "code",
   "execution_count": null,
   "metadata": {},
   "outputs": [],
   "source": []
  }
 ],
 "metadata": {
  "kernelspec": {
   "display_name": "Python 3.9.6 ('base')",
   "language": "python",
   "name": "python3"
  },
  "language_info": {
   "codemirror_mode": {
    "name": "ipython",
    "version": 3
   },
   "file_extension": ".py",
   "mimetype": "text/x-python",
   "name": "python",
   "nbconvert_exporter": "python",
   "pygments_lexer": "ipython3",
   "version": "3.9.6"
  },
  "orig_nbformat": 4,
  "vscode": {
   "interpreter": {
    "hash": "19d1d53a962d236aa061289c2ac16dc8e6d9648c89fe79f459ae9a3493bc67b4"
   }
  }
 },
 "nbformat": 4,
 "nbformat_minor": 2
}
